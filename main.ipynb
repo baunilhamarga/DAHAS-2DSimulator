{
 "cells": [
  {
   "cell_type": "markdown",
   "metadata": {},
   "source": [
    "# Setup"
   ]
  },
  {
   "cell_type": "code",
   "execution_count": null,
   "metadata": {},
   "outputs": [],
   "source": [
    "from anastruct import SystemElements\n",
    "import difflib\n",
    "\n",
    "\n",
    "ss = SystemElements()"
   ]
  },
  {
   "cell_type": "markdown",
   "metadata": {},
   "source": [
    "# Inputs"
   ]
  },
  {
   "cell_type": "markdown",
   "metadata": {},
   "source": [
    "##### Exemplo Feito"
   ]
  },
  {
   "cell_type": "code",
   "execution_count": null,
   "metadata": {},
   "outputs": [],
   "source": [
    "# Exemplo Feito\n",
    "# Barras location = [x1, y1], [x2, y2]\n",
    "ss.add_element(location=[[0, 0], [0, 2]])  # Barra 1\n",
    "ss.add_element(location=[[0, 2], [0, 4]])  # Barra 2\n",
    "ss.add_element(location=[[0, 4], [3, 4]])  # Barra 3\n",
    "ss.add_element(location=[[3, 4], [4, 4]])  # Barra 4\n",
    "ss.add_element(location=[[4, 4], [6, 4]])  # Barra 5\n",
    "ss.add_element(location=[[6, 4], [7, 4]])  # Barra 6\n",
    "\n",
    "ss.add_internal_hinge(node_id=3)\n",
    "ss.add_internal_hinge(node_id=5)\n",
    "\n",
    "ss.add_support_fixed(node_id=1)\n",
    "ss.add_support_roll(node_id=4)\n",
    "ss.add_support_roll(node_id=6)\n",
    "\n",
    "ss.point_load(node_id=2, Fx=+5)\n",
    "ss.q_load(q=-2, element_id=3)\n",
    "ss.q_load(q=-2, element_id=4)\n",
    "ss.point_load(node_id=7, Fy=-10)"
   ]
  },
  {
   "cell_type": "markdown",
   "metadata": {},
   "source": [
    "##### Input do Usuário"
   ]
  },
  {
   "cell_type": "code",
   "execution_count": null,
   "metadata": {},
   "outputs": [],
   "source": []
  },
  {
   "cell_type": "code",
   "execution_count": null,
   "metadata": {},
   "outputs": [],
   "source": [
    "# Adicione uma barra\n",
    "apoio = input(\"Digite o ponto de início da barra x1 y1\")\n",
    "apoio += \" \" + input(\"Digite o ponto de fim da barra x2 y2\")\n",
    "apoio = apoio.split(\" \")\n",
    "x1, y1, x2, y2 = float(apoio[0]), float(apoio[1]), float(apoio[2]), float(apoio[3])\n",
    "ss.add_element(location=[[x1, y1], [x2, y2]])\n",
    "\n",
    "ss.show_structure()"
   ]
  },
  {
   "cell_type": "code",
   "execution_count": null,
   "metadata": {},
   "outputs": [],
   "source": [
    "# Adicione um apoio\n",
    "apoio = input(\"Digite um tipo de apoio entre (apoio simples, apoio móvel, articulação, engaste)\")\n",
    "\n",
    "# Lista de opções válidas\n",
    "apoios_validos = [\"apoio simples\", \"apoio móvel\", \"articulação\", \"engaste\"]\n",
    "\n",
    "# Função para encontrar a opção mais próxima\n",
    "def find_closest_option(user_input, options):\n",
    "    closest_matches = difflib.get_close_matches(user_input, options, n=1, cutoff=0.6)\n",
    "    if closest_matches:\n",
    "        return closest_matches[0]\n",
    "    else:\n",
    "        return None\n",
    "\n",
    "# Encontrar a opção mais próxima\n",
    "apoio = find_closest_option(apoio, apoios_validos)\n",
    "\n",
    "if apoio == None:\n",
    "    print(\"Apoio inválido. Tente novamente.\")\n",
    "\n",
    "elif(apoio == \"apoio simples\"):\n",
    "    id = input(\"Adicione o ID do nó onde deseja colocar o suporte:\")\n",
    "    id = int(id)\n",
    "    ss.add_support_hinged(node_id=id)\n",
    "\n",
    "elif(apoio == \"apoio móvel\"):\n",
    "    id = int(input(\"Adicione o ID do nó onde deseja colocar o suporte:\"))\n",
    "    direction = input(\"Adicione a direção sem restrição de movimento (x ou y):\")\n",
    "    ss.add_support_roll(node_id=id, direction=2 if direction == \"x\" else 1)\n",
    "\n",
    "elif(apoio == \"articulação\"):\n",
    "    id = input(\"Adicione o ID do nó onde deseja colocar o suporte:\")\n",
    "    id = int(id)\n",
    "    ss.add_internal_hinge(id)\n",
    "\n",
    "elif(apoio == \"engaste\"):\n",
    "    id = int(input(\"Adicione o ID do nó onde deseja colocar o suporte\"))\n",
    "    ss.add_support_fixed(id)\n",
    "    \n",
    "ss.show_structure()"
   ]
  },
  {
   "cell_type": "code",
   "execution_count": null,
   "metadata": {},
   "outputs": [],
   "source": [
    "# Adicione uma carga distribuída a uma barra\n",
    "id = int(input(\"Insira o ID da barra:\"))\n",
    "q = float(input(\"Insira a carga distribuída q:\").replace(\",\", \".\"))\n",
    "\n",
    "ss.q_load(q=q, element_id=id)\n",
    "ss.show_structure()"
   ]
  },
  {
   "cell_type": "code",
   "execution_count": null,
   "metadata": {},
   "outputs": [],
   "source": [
    "# Adicione uma força a um nó\n",
    "id = int(input(\"Insira o ID do nó:\"))\n",
    "Fx = float(input(\"Insira o Fx:\").replace(\",\", \".\"))\n",
    "Fy = float(input(\"Insira o Fy:\").replace(\",\", \".\"))\n",
    "\n",
    "ss.point_load(node_id=id, Fx=Fx, Fy=Fy)\n",
    "ss.show_structure()"
   ]
  },
  {
   "cell_type": "code",
   "execution_count": null,
   "metadata": {},
   "outputs": [],
   "source": [
    "# Adicione um momento a um nó\n",
    "id = int(input(\"Insira o ID do nó:\"))\n",
    "Tz = float(input(\"Insira o M:\").replace(\",\", \".\"))\n",
    "\n",
    "ss.moment_load(node_id=id, Tz=Tz)\n",
    "ss.show_structure()"
   ]
  },
  {
   "cell_type": "markdown",
   "metadata": {},
   "source": [
    "# Resultados"
   ]
  },
  {
   "cell_type": "code",
   "execution_count": null,
   "metadata": {},
   "outputs": [],
   "source": [
    "# Mostrar estrutura\n",
    "ss.show_structure()"
   ]
  },
  {
   "cell_type": "code",
   "execution_count": null,
   "metadata": {},
   "outputs": [],
   "source": [
    "# Calcular\n",
    "ss.solve()"
   ]
  },
  {
   "cell_type": "code",
   "execution_count": null,
   "metadata": {},
   "outputs": [],
   "source": [
    "# Plot resultados gerais\n",
    "ss.show_results()"
   ]
  },
  {
   "cell_type": "code",
   "execution_count": null,
   "metadata": {},
   "outputs": [],
   "source": [
    "# Reações de Apoio\n",
    "ss.show_reaction_force()"
   ]
  },
  {
   "cell_type": "code",
   "execution_count": null,
   "metadata": {},
   "outputs": [],
   "source": [
    "# Normal\n",
    "ss.show_axial_force()"
   ]
  },
  {
   "cell_type": "code",
   "execution_count": null,
   "metadata": {},
   "outputs": [],
   "source": [
    "# Cortante\n",
    "ss.show_shear_force()"
   ]
  },
  {
   "cell_type": "code",
   "execution_count": null,
   "metadata": {},
   "outputs": [],
   "source": [
    "# Momento Fletor\n",
    "ss.show_bending_moment()"
   ]
  },
  {
   "cell_type": "code",
   "execution_count": null,
   "metadata": {},
   "outputs": [],
   "source": [
    "ss.get_element_results(verbose=False)"
   ]
  },
  {
   "cell_type": "code",
   "execution_count": null,
   "metadata": {},
   "outputs": [],
   "source": [
    "el = ss.element_map[3]\n",
    "el.bending_moment, el.l"
   ]
  }
 ],
 "metadata": {
  "kernelspec": {
   "display_name": "dahas",
   "language": "python",
   "name": "python3"
  },
  "language_info": {
   "codemirror_mode": {
    "name": "ipython",
    "version": 3
   },
   "file_extension": ".py",
   "mimetype": "text/x-python",
   "name": "python",
   "nbconvert_exporter": "python",
   "pygments_lexer": "ipython3",
   "version": "3.11.9"
  }
 },
 "nbformat": 4,
 "nbformat_minor": 2
}
